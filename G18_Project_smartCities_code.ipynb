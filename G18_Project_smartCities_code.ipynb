{
  "cells": [
    {
      "cell_type": "code",
      "execution_count": null,
      "metadata": {
        "colab": {
          "base_uri": "https://localhost:8080/",
          "height": 382
        },
        "id": "rm1s8V07Axwf",
        "outputId": "c1e91d6a-419a-4fb6-f465-2f08fcf9c012"
      },
      "outputs": [
        {
          "output_type": "stream",
          "name": "stdout",
          "text": [
            "Looking in indexes: https://pypi.org/simple, https://us-python.pkg.dev/colab-wheels/public/simple/\n",
            "Requirement already satisfied: imbalanced-learn in /usr/local/lib/python3.7/dist-packages (0.8.1)\n",
            "Collecting imbalanced-learn\n",
            "  Downloading imbalanced_learn-0.9.1-py3-none-any.whl (199 kB)\n",
            "\u001b[K     |████████████████████████████████| 199 kB 7.9 MB/s \n",
            "\u001b[?25hRequirement already satisfied: numpy>=1.17.3 in /usr/local/lib/python3.7/dist-packages (from imbalanced-learn) (1.21.6)\n",
            "Requirement already satisfied: joblib>=1.0.0 in /usr/local/lib/python3.7/dist-packages (from imbalanced-learn) (1.1.0)\n",
            "Requirement already satisfied: threadpoolctl>=2.0.0 in /usr/local/lib/python3.7/dist-packages (from imbalanced-learn) (3.1.0)\n",
            "  Downloading imbalanced_learn-0.9.0-py3-none-any.whl (199 kB)\n",
            "\u001b[K     |████████████████████████████████| 199 kB 48.2 MB/s \n",
            "\u001b[?25hRequirement already satisfied: scipy>=1.1.0 in /usr/local/lib/python3.7/dist-packages (from imbalanced-learn) (1.7.3)\n",
            "Requirement already satisfied: scikit-learn>=1.0.1 in /usr/local/lib/python3.7/dist-packages (from imbalanced-learn) (1.0.2)\n",
            "Installing collected packages: imbalanced-learn\n",
            "  Attempting uninstall: imbalanced-learn\n",
            "    Found existing installation: imbalanced-learn 0.8.1\n",
            "    Uninstalling imbalanced-learn-0.8.1:\n",
            "      Successfully uninstalled imbalanced-learn-0.8.1\n",
            "Successfully installed imbalanced-learn-0.9.0\n"
          ]
        },
        {
          "output_type": "execute_result",
          "data": {
            "text/plain": [
              "<Figure size 720x360 with 0 Axes>"
            ]
          },
          "metadata": {},
          "execution_count": 1
        },
        {
          "output_type": "display_data",
          "data": {
            "text/plain": [
              "<Figure size 720x360 with 0 Axes>"
            ]
          },
          "metadata": {}
        }
      ],
      "source": [
        "import numpy as np\n",
        "import pandas as pd\n",
        "!pip install -U imbalanced-learn\n",
        "from sklearn.model_selection import train_test_split\n",
        "from sklearn.metrics import classification_report, ConfusionMatrixDisplay, accuracy_score, confusion_matrix\n",
        "from sklearn.naive_bayes import GaussianNB\n",
        "from sklearn.naive_bayes import BernoulliNB\n",
        "from sklearn.ensemble import AdaBoostClassifier\n",
        "import matplotlib.pyplot as plt\n",
        "\n",
        "%matplotlib inline\n",
        "from sklearn import metrics\n",
        "from sklearn.metrics import classification_report, ConfusionMatrixDisplay, accuracy_score, confusion_matrix\n",
        "from sklearn.datasets import make_classification, make_circles\n",
        "from sklearn.preprocessing import MultiLabelBinarizer\n",
        "import seaborn as sns\n",
        "import warnings\n",
        "from sklearn.ensemble import RandomForestClassifier\n",
        "warnings.filterwarnings(action='ignore')\n",
        "from collections import Counter\n",
        "from imblearn.over_sampling import RandomOverSampler\n",
        "from sklearn.ensemble import VotingClassifier\n",
        "from sklearn.metrics import accuracy_score\n",
        "plt.figure(figsize = (10, 5))"
      ]
    },
    {
      "cell_type": "code",
      "source": [
        "np.random.seed(42)"
      ],
      "metadata": {
        "id": "DAogVnXHf7WL"
      },
      "execution_count": null,
      "outputs": []
    },
    {
      "cell_type": "code",
      "execution_count": null,
      "metadata": {
        "id": "lpsfotevCpRe"
      },
      "outputs": [],
      "source": [
        "def getConfusionMatrix(model,X_test,y_test,title):\n",
        "    \"\"\"plot the confusion matrix of a model\n",
        "    Input: model, X_test, y_test\n",
        "    Output: print the confusion matrix\n",
        "    \"\"\"\n",
        "    predictions = model.predict(X_test)\n",
        "    cm = confusion_matrix(y_test, predictions, labels=model.classes_)\n",
        "    print(cm)\n",
        "    disp = ConfusionMatrixDisplay(confusion_matrix=cm,display_labels=model.classes_)\n",
        "    disp.plot()\n",
        "    plt.title(title)\n",
        "    plt.show()"
      ]
    },
    {
      "cell_type": "markdown",
      "metadata": {
        "id": "QVcOm3W_DTao"
      },
      "source": [
        "## 1.Use the provided dataset with fake tasks and legitimate tasks \n"
      ]
    },
    {
      "cell_type": "code",
      "execution_count": null,
      "metadata": {
        "colab": {
          "base_uri": "https://localhost:8080/",
          "height": 363
        },
        "id": "9AblxAFtCspl",
        "outputId": "28dc0cad-2898-492a-c848-a9390a382c1b"
      },
      "outputs": [
        {
          "output_type": "execute_result",
          "data": {
            "text/plain": [
              "   ID   Latitude  Longitude  Day  Hour  Minute  Duration  RemainingTime  \\\n",
              "0   1  45.442142 -75.303369    1     4      13        40             40   \n",
              "1   1  45.442154 -75.304366    1     4      23        40             30   \n",
              "2   1  45.442104 -75.303963    1     4      33        40             20   \n",
              "3   1  45.441868 -75.303577    1     4      43        40             10   \n",
              "4   2  45.447727 -75.147722    2    15      49        30             30   \n",
              "5   2  45.447747 -75.147951    2    15      59        30             20   \n",
              "6   2  45.447790 -75.148303    2    16       9        30             10   \n",
              "7   3  45.508896 -75.259807    2    12      27        30             30   \n",
              "8   3  45.508748 -75.260652    2    12      37        30             20   \n",
              "9   3  45.508082 -75.260380    2    12      47        30             10   \n",
              "\n",
              "   Resources  Coverage  OnPeakHours  GridNumber  Ligitimacy  \n",
              "0          9        91            0      131380           1  \n",
              "1          9        91            0      131380           1  \n",
              "2          9        91            0      121996           1  \n",
              "3          9        91            0      121996           1  \n",
              "4          5        47            0      140784           1  \n",
              "5          5        47            0      140784           1  \n",
              "6          5        47            0      140784           1  \n",
              "7          4        43            0      243994           1  \n",
              "8          4        43            0      243994           1  \n",
              "9          4        43            0      243994           1  "
            ],
            "text/html": [
              "\n",
              "  <div id=\"df-32de233e-f776-4b40-a455-8b41d0849e32\">\n",
              "    <div class=\"colab-df-container\">\n",
              "      <div>\n",
              "<style scoped>\n",
              "    .dataframe tbody tr th:only-of-type {\n",
              "        vertical-align: middle;\n",
              "    }\n",
              "\n",
              "    .dataframe tbody tr th {\n",
              "        vertical-align: top;\n",
              "    }\n",
              "\n",
              "    .dataframe thead th {\n",
              "        text-align: right;\n",
              "    }\n",
              "</style>\n",
              "<table border=\"1\" class=\"dataframe\">\n",
              "  <thead>\n",
              "    <tr style=\"text-align: right;\">\n",
              "      <th></th>\n",
              "      <th>ID</th>\n",
              "      <th>Latitude</th>\n",
              "      <th>Longitude</th>\n",
              "      <th>Day</th>\n",
              "      <th>Hour</th>\n",
              "      <th>Minute</th>\n",
              "      <th>Duration</th>\n",
              "      <th>RemainingTime</th>\n",
              "      <th>Resources</th>\n",
              "      <th>Coverage</th>\n",
              "      <th>OnPeakHours</th>\n",
              "      <th>GridNumber</th>\n",
              "      <th>Ligitimacy</th>\n",
              "    </tr>\n",
              "  </thead>\n",
              "  <tbody>\n",
              "    <tr>\n",
              "      <th>0</th>\n",
              "      <td>1</td>\n",
              "      <td>45.442142</td>\n",
              "      <td>-75.303369</td>\n",
              "      <td>1</td>\n",
              "      <td>4</td>\n",
              "      <td>13</td>\n",
              "      <td>40</td>\n",
              "      <td>40</td>\n",
              "      <td>9</td>\n",
              "      <td>91</td>\n",
              "      <td>0</td>\n",
              "      <td>131380</td>\n",
              "      <td>1</td>\n",
              "    </tr>\n",
              "    <tr>\n",
              "      <th>1</th>\n",
              "      <td>1</td>\n",
              "      <td>45.442154</td>\n",
              "      <td>-75.304366</td>\n",
              "      <td>1</td>\n",
              "      <td>4</td>\n",
              "      <td>23</td>\n",
              "      <td>40</td>\n",
              "      <td>30</td>\n",
              "      <td>9</td>\n",
              "      <td>91</td>\n",
              "      <td>0</td>\n",
              "      <td>131380</td>\n",
              "      <td>1</td>\n",
              "    </tr>\n",
              "    <tr>\n",
              "      <th>2</th>\n",
              "      <td>1</td>\n",
              "      <td>45.442104</td>\n",
              "      <td>-75.303963</td>\n",
              "      <td>1</td>\n",
              "      <td>4</td>\n",
              "      <td>33</td>\n",
              "      <td>40</td>\n",
              "      <td>20</td>\n",
              "      <td>9</td>\n",
              "      <td>91</td>\n",
              "      <td>0</td>\n",
              "      <td>121996</td>\n",
              "      <td>1</td>\n",
              "    </tr>\n",
              "    <tr>\n",
              "      <th>3</th>\n",
              "      <td>1</td>\n",
              "      <td>45.441868</td>\n",
              "      <td>-75.303577</td>\n",
              "      <td>1</td>\n",
              "      <td>4</td>\n",
              "      <td>43</td>\n",
              "      <td>40</td>\n",
              "      <td>10</td>\n",
              "      <td>9</td>\n",
              "      <td>91</td>\n",
              "      <td>0</td>\n",
              "      <td>121996</td>\n",
              "      <td>1</td>\n",
              "    </tr>\n",
              "    <tr>\n",
              "      <th>4</th>\n",
              "      <td>2</td>\n",
              "      <td>45.447727</td>\n",
              "      <td>-75.147722</td>\n",
              "      <td>2</td>\n",
              "      <td>15</td>\n",
              "      <td>49</td>\n",
              "      <td>30</td>\n",
              "      <td>30</td>\n",
              "      <td>5</td>\n",
              "      <td>47</td>\n",
              "      <td>0</td>\n",
              "      <td>140784</td>\n",
              "      <td>1</td>\n",
              "    </tr>\n",
              "    <tr>\n",
              "      <th>5</th>\n",
              "      <td>2</td>\n",
              "      <td>45.447747</td>\n",
              "      <td>-75.147951</td>\n",
              "      <td>2</td>\n",
              "      <td>15</td>\n",
              "      <td>59</td>\n",
              "      <td>30</td>\n",
              "      <td>20</td>\n",
              "      <td>5</td>\n",
              "      <td>47</td>\n",
              "      <td>0</td>\n",
              "      <td>140784</td>\n",
              "      <td>1</td>\n",
              "    </tr>\n",
              "    <tr>\n",
              "      <th>6</th>\n",
              "      <td>2</td>\n",
              "      <td>45.447790</td>\n",
              "      <td>-75.148303</td>\n",
              "      <td>2</td>\n",
              "      <td>16</td>\n",
              "      <td>9</td>\n",
              "      <td>30</td>\n",
              "      <td>10</td>\n",
              "      <td>5</td>\n",
              "      <td>47</td>\n",
              "      <td>0</td>\n",
              "      <td>140784</td>\n",
              "      <td>1</td>\n",
              "    </tr>\n",
              "    <tr>\n",
              "      <th>7</th>\n",
              "      <td>3</td>\n",
              "      <td>45.508896</td>\n",
              "      <td>-75.259807</td>\n",
              "      <td>2</td>\n",
              "      <td>12</td>\n",
              "      <td>27</td>\n",
              "      <td>30</td>\n",
              "      <td>30</td>\n",
              "      <td>4</td>\n",
              "      <td>43</td>\n",
              "      <td>0</td>\n",
              "      <td>243994</td>\n",
              "      <td>1</td>\n",
              "    </tr>\n",
              "    <tr>\n",
              "      <th>8</th>\n",
              "      <td>3</td>\n",
              "      <td>45.508748</td>\n",
              "      <td>-75.260652</td>\n",
              "      <td>2</td>\n",
              "      <td>12</td>\n",
              "      <td>37</td>\n",
              "      <td>30</td>\n",
              "      <td>20</td>\n",
              "      <td>4</td>\n",
              "      <td>43</td>\n",
              "      <td>0</td>\n",
              "      <td>243994</td>\n",
              "      <td>1</td>\n",
              "    </tr>\n",
              "    <tr>\n",
              "      <th>9</th>\n",
              "      <td>3</td>\n",
              "      <td>45.508082</td>\n",
              "      <td>-75.260380</td>\n",
              "      <td>2</td>\n",
              "      <td>12</td>\n",
              "      <td>47</td>\n",
              "      <td>30</td>\n",
              "      <td>10</td>\n",
              "      <td>4</td>\n",
              "      <td>43</td>\n",
              "      <td>0</td>\n",
              "      <td>243994</td>\n",
              "      <td>1</td>\n",
              "    </tr>\n",
              "  </tbody>\n",
              "</table>\n",
              "</div>\n",
              "      <button class=\"colab-df-convert\" onclick=\"convertToInteractive('df-32de233e-f776-4b40-a455-8b41d0849e32')\"\n",
              "              title=\"Convert this dataframe to an interactive table.\"\n",
              "              style=\"display:none;\">\n",
              "        \n",
              "  <svg xmlns=\"http://www.w3.org/2000/svg\" height=\"24px\"viewBox=\"0 0 24 24\"\n",
              "       width=\"24px\">\n",
              "    <path d=\"M0 0h24v24H0V0z\" fill=\"none\"/>\n",
              "    <path d=\"M18.56 5.44l.94 2.06.94-2.06 2.06-.94-2.06-.94-.94-2.06-.94 2.06-2.06.94zm-11 1L8.5 8.5l.94-2.06 2.06-.94-2.06-.94L8.5 2.5l-.94 2.06-2.06.94zm10 10l.94 2.06.94-2.06 2.06-.94-2.06-.94-.94-2.06-.94 2.06-2.06.94z\"/><path d=\"M17.41 7.96l-1.37-1.37c-.4-.4-.92-.59-1.43-.59-.52 0-1.04.2-1.43.59L10.3 9.45l-7.72 7.72c-.78.78-.78 2.05 0 2.83L4 21.41c.39.39.9.59 1.41.59.51 0 1.02-.2 1.41-.59l7.78-7.78 2.81-2.81c.8-.78.8-2.07 0-2.86zM5.41 20L4 18.59l7.72-7.72 1.47 1.35L5.41 20z\"/>\n",
              "  </svg>\n",
              "      </button>\n",
              "      \n",
              "  <style>\n",
              "    .colab-df-container {\n",
              "      display:flex;\n",
              "      flex-wrap:wrap;\n",
              "      gap: 12px;\n",
              "    }\n",
              "\n",
              "    .colab-df-convert {\n",
              "      background-color: #E8F0FE;\n",
              "      border: none;\n",
              "      border-radius: 50%;\n",
              "      cursor: pointer;\n",
              "      display: none;\n",
              "      fill: #1967D2;\n",
              "      height: 32px;\n",
              "      padding: 0 0 0 0;\n",
              "      width: 32px;\n",
              "    }\n",
              "\n",
              "    .colab-df-convert:hover {\n",
              "      background-color: #E2EBFA;\n",
              "      box-shadow: 0px 1px 2px rgba(60, 64, 67, 0.3), 0px 1px 3px 1px rgba(60, 64, 67, 0.15);\n",
              "      fill: #174EA6;\n",
              "    }\n",
              "\n",
              "    [theme=dark] .colab-df-convert {\n",
              "      background-color: #3B4455;\n",
              "      fill: #D2E3FC;\n",
              "    }\n",
              "\n",
              "    [theme=dark] .colab-df-convert:hover {\n",
              "      background-color: #434B5C;\n",
              "      box-shadow: 0px 1px 3px 1px rgba(0, 0, 0, 0.15);\n",
              "      filter: drop-shadow(0px 1px 2px rgba(0, 0, 0, 0.3));\n",
              "      fill: #FFFFFF;\n",
              "    }\n",
              "  </style>\n",
              "\n",
              "      <script>\n",
              "        const buttonEl =\n",
              "          document.querySelector('#df-32de233e-f776-4b40-a455-8b41d0849e32 button.colab-df-convert');\n",
              "        buttonEl.style.display =\n",
              "          google.colab.kernel.accessAllowed ? 'block' : 'none';\n",
              "\n",
              "        async function convertToInteractive(key) {\n",
              "          const element = document.querySelector('#df-32de233e-f776-4b40-a455-8b41d0849e32');\n",
              "          const dataTable =\n",
              "            await google.colab.kernel.invokeFunction('convertToInteractive',\n",
              "                                                     [key], {});\n",
              "          if (!dataTable) return;\n",
              "\n",
              "          const docLinkHtml = 'Like what you see? Visit the ' +\n",
              "            '<a target=\"_blank\" href=https://colab.research.google.com/notebooks/data_table.ipynb>data table notebook</a>'\n",
              "            + ' to learn more about interactive tables.';\n",
              "          element.innerHTML = '';\n",
              "          dataTable['output_type'] = 'display_data';\n",
              "          await google.colab.output.renderOutput(dataTable, element);\n",
              "          const docLink = document.createElement('div');\n",
              "          docLink.innerHTML = docLinkHtml;\n",
              "          element.appendChild(docLink);\n",
              "        }\n",
              "      </script>\n",
              "    </div>\n",
              "  </div>\n",
              "  "
            ]
          },
          "metadata": {},
          "execution_count": 4
        }
      ],
      "source": [
        "#read dataset from csv\n",
        "\n",
        "dataset = pd.read_csv('MCSDatasetNEXTCONLab.csv')\n",
        "dataset.head(10)"
      ]
    },
    {
      "cell_type": "code",
      "execution_count": null,
      "metadata": {
        "id": "RghmgC6nCva-"
      },
      "outputs": [],
      "source": [
        "def show_data_balanceing(title, lst_names, lst_cls ):\n",
        "  plt.bar(lst_names,lst_cls,width=0.3)\n",
        "  plt.title(title)\n",
        "  plt.xlabel('classes')\n",
        "  plt.xticks(ha='right')\n",
        "  plt.ylabel('frequenncy')\n",
        "  plt.show()"
      ]
    },
    {
      "cell_type": "code",
      "execution_count": null,
      "metadata": {
        "colab": {
          "base_uri": "https://localhost:8080/"
        },
        "id": "4RjnWY9FCx3n",
        "outputId": "cfc3fb12-ee4f-4ca0-ca42-0ff8d51af715"
      },
      "outputs": [
        {
          "output_type": "execute_result",
          "data": {
            "text/plain": [
              "1    12587\n",
              "0     1897\n",
              "Name: Ligitimacy, dtype: int64"
            ]
          },
          "metadata": {},
          "execution_count": 6
        }
      ],
      "source": [
        "# showing the number of rows of target [0 or 1]\n",
        "dataset[\"Ligitimacy\"].value_counts()"
      ]
    },
    {
      "cell_type": "code",
      "execution_count": null,
      "metadata": {
        "colab": {
          "base_uri": "https://localhost:8080/"
        },
        "id": "hvmp6uK3C0ng",
        "outputId": "2a807c39-fc39-483c-8ba6-000c9261a2ef"
      },
      "outputs": [
        {
          "output_type": "execute_result",
          "data": {
            "text/plain": [
              "(14484, 13)"
            ]
          },
          "metadata": {},
          "execution_count": 7
        }
      ],
      "source": [
        "dataset.shape"
      ]
    },
    {
      "cell_type": "code",
      "execution_count": null,
      "metadata": {
        "colab": {
          "base_uri": "https://localhost:8080/",
          "height": 295
        },
        "id": "NaqenvH2C2gR",
        "outputId": "b7475a0c-1535-4a74-d1d6-da24e645d70b"
      },
      "outputs": [
        {
          "output_type": "display_data",
          "data": {
            "text/plain": [
              "<Figure size 432x288 with 1 Axes>"
            ],
            "image/png": "[encoded data removed]"
          },
          "metadata": {
            "needs_background": "light"
          }
        }
      ],
      "source": [
        "# visualize data\n",
        "lstcount = [dataset[\"Ligitimacy\"].value_counts()[1],dataset[\"Ligitimacy\"].value_counts()[0]]\n",
        "show_data_balanceing(\"data visualization\",['1','0'],lstcount)"
      ]
    },
    {
      "cell_type": "code",
      "execution_count": null,
      "metadata": {
        "id": "9OW5fkoxC7UQ"
      },
      "outputs": [],
      "source": [
        "#split the dataset into independent variables and target\n",
        "X=dataset.iloc[:,:-1]\n",
        "y=dataset.iloc[:,-1]"
      ]
    },
    {
      "cell_type": "code",
      "source": [
        "#remove ID coulmn\n",
        "X.drop(\"ID\",axis=1,inplace=True)"
      ],
      "metadata": {
        "id": "5ZURcfJYXXQx"
      },
      "execution_count": null,
      "outputs": []
    },
    {
      "cell_type": "markdown",
      "metadata": {
        "id": "FLZbXST_DNb8"
      },
      "source": [
        "## 2.\tSplit the dataset into two for training (80%) and test (20%)"
      ]
    },
    {
      "cell_type": "code",
      "execution_count": null,
      "metadata": {
        "id": "3c38AgdRDIlk"
      },
      "outputs": [],
      "source": [
        "#split dataset into trianing and testing with 80% training and 20% testing\n",
        "X_train, X_test, y_train, y_test = train_test_split(X, y, test_size=0.2, random_state=42,stratify= y)"
      ]
    },
    {
      "cell_type": "code",
      "source": [
        "y_test = pd.DataFrame(y_test)\n",
        "y_train = pd.DataFrame(y_train)"
      ],
      "metadata": {
        "id": "8jFYjrEOZcmI"
      },
      "execution_count": null,
      "outputs": []
    },
    {
      "cell_type": "code",
      "source": [
        "#scalling the data\n",
        "from sklearn.preprocessing import MinMaxScaler\n",
        "scaler = MinMaxScaler(feature_range=(-1,1))\n",
        "X_train = scaler.fit_transform(X_train)\n",
        "X_test=scaler.transform(X_test)"
      ],
      "metadata": {
        "id": "CP8MLKirV5Ba"
      },
      "execution_count": null,
      "outputs": []
    },
    {
      "cell_type": "markdown",
      "metadata": {
        "id": "9LXVMyO9Dwi7"
      },
      "source": [
        "## \tUse RF and Adaboost classification models separately using training dataset."
      ]
    },
    {
      "cell_type": "code",
      "execution_count": null,
      "metadata": {
        "id": "B0lw-E47HnCY",
        "colab": {
          "base_uri": "https://localhost:8080/"
        },
        "outputId": "beb26ca8-4ec8-44e8-da9c-f33ea5966188"
      },
      "outputs": [
        {
          "output_type": "execute_result",
          "data": {
            "text/plain": [
              "RandomForestClassifier(max_depth=23, random_state=0)"
            ]
          },
          "metadata": {},
          "execution_count": 14
        }
      ],
      "source": [
        "#Random Forest Classifier\n",
        "#We got best performance at max_depth= 23\n",
        "RFclf = RandomForestClassifier(max_depth=23, random_state=0)\n",
        "RFclf.fit(X_train, y_train)\n",
        "\n",
        "\n",
        " "
      ]
    },
    {
      "cell_type": "code",
      "execution_count": null,
      "metadata": {
        "colab": {
          "base_uri": "https://localhost:8080/",
          "height": 532
        },
        "id": "my0oeqGgH1Op",
        "outputId": "dddd8986-7ce4-4b53-a7b7-101e2848a020"
      },
      "outputs": [
        {
          "output_type": "stream",
          "name": "stdout",
          "text": [
            "Testing accuracy of Random Forest: 99.58577839143942%\n",
            "Classification Report for RF\n",
            "              precision    recall  f1-score   support\n",
            "\n",
            "           0       1.00      0.97      0.98       379\n",
            "           1       1.00      1.00      1.00      2518\n",
            "\n",
            "    accuracy                           1.00      2897\n",
            "   macro avg       1.00      0.99      0.99      2897\n",
            "weighted avg       1.00      1.00      1.00      2897\n",
            "\n",
            "[[ 368   11]\n",
            " [   1 2517]]\n"
          ]
        },
        {
          "output_type": "display_data",
          "data": {
            "text/plain": [
              "<Figure size 432x288 with 2 Axes>"
            ],
            "image/png": "[encoded data removed]"
          },
          "metadata": {
            "needs_background": "light"
          }
        }
      ],
      "source": [
        "# Testing accuracy of RF\n",
        "ypredRF_testing =RFclf.predict(X_test)\n",
        "RandomForest_test_acc = accuracy_score(y_test, ypredRF_testing)\n",
        "print(f'Testing accuracy of Random Forest: {RandomForest_test_acc*100}%')\n",
        "print('Classification Report for RF')\n",
        "print(classification_report(y_test, ypredRF_testing))\n",
        "getConfusionMatrix(RFclf,X_test,y_test,\"Confusion Matrix for Testing RF Model\")\n",
        " "
      ]
    },
    {
      "cell_type": "code",
      "execution_count": null,
      "metadata": {
        "id": "tXDf9eJcH2hq",
        "colab": {
          "base_uri": "https://localhost:8080/"
        },
        "outputId": "8e014788-2dba-4e88-bace-4c1c77047bec"
      },
      "outputs": [
        {
          "output_type": "execute_result",
          "data": {
            "text/plain": [
              "AdaBoostClassifier(n_estimators=2380, random_state=0)"
            ]
          },
          "metadata": {},
          "execution_count": 16
        }
      ],
      "source": [
        "#AdaBoost Classifier\n",
        "#We got best performance at n_estimators=2380\n",
        "Adaclf = AdaBoostClassifier(n_estimators=2380, random_state=0)\n",
        "Adaclf.fit(X_train, y_train)"
      ]
    },
    {
      "cell_type": "code",
      "execution_count": null,
      "metadata": {
        "colab": {
          "base_uri": "https://localhost:8080/",
          "height": 532
        },
        "id": "zYNNdR-aH6T8",
        "outputId": "a72b52db-9f5f-4d73-8be8-6e8ce935f725"
      },
      "outputs": [
        {
          "output_type": "stream",
          "name": "stdout",
          "text": [
            "Testing accuracy of Adaboost: 99.58577839143942%\n",
            "Classification Report for Adaboost\n",
            "              precision    recall  f1-score   support\n",
            "\n",
            "           0       0.99      0.97      0.98       379\n",
            "           1       1.00      1.00      1.00      2518\n",
            "\n",
            "    accuracy                           1.00      2897\n",
            "   macro avg       1.00      0.99      0.99      2897\n",
            "weighted avg       1.00      1.00      1.00      2897\n",
            "\n",
            "[[ 369   10]\n",
            " [   2 2516]]\n"
          ]
        },
        {
          "output_type": "display_data",
          "data": {
            "text/plain": [
              "<Figure size 432x288 with 2 Axes>"
            ],
            "image/png": "[encoded data removed]"
          },
          "metadata": {
            "needs_background": "light"
          }
        }
      ],
      "source": [
        "# testing accuracy of Adaboost\n",
        "ypredAda_testing=Adaclf.predict(X_test)\n",
        "adaBoost_test_acc = accuracy_score(y_test, ypredAda_testing)\n",
        "print(f'Testing accuracy of Adaboost: {adaBoost_test_acc*100}%')\n",
        "print('Classification Report for Adaboost')\n",
        "print(classification_report(y_test, ypredAda_testing))\n",
        "getConfusionMatrix(Adaclf,X_test,y_test,\"Confusion Matrix for Testing AdaBoost Model\")"
      ]
    },
    {
      "cell_type": "code",
      "execution_count": null,
      "metadata": {
        "colab": {
          "base_uri": "https://localhost:8080/",
          "height": 350
        },
        "id": "K1A57FCPR_Z4",
        "outputId": "0825fd82-fa7f-436d-ca18-96b99faeb3b3"
      },
      "outputs": [
        {
          "output_type": "display_data",
          "data": {
            "text/plain": [
              "<Figure size 720x360 with 1 Axes>"
            ],
            "image/png": "[encoded data removed]"
          },
          "metadata": {
            "needs_background": "light"
          }
        }
      ],
      "source": [
        "data = { 'RF':RandomForest_test_acc*100,'adaBoost':adaBoost_test_acc*100}\n",
        "models = list(data.keys())\n",
        "accuracies = list(data.values())\n",
        "  \n",
        "fig = plt.figure(figsize = (10, 5))\n",
        " \n",
        "# creating the bar plot\n",
        "plt.bar(models, accuracies, color ='maroon',width = 0.4)\n",
        " \n",
        "plt.xlabel(\"Models\")\n",
        "plt.ylabel(\"Accuracies\")\n",
        "plt.title(\"AdaBoost and RF Testign Accuracies\")\n",
        "plt.show()\n",
        "\n",
        "\n",
        " "
      ]
    },
    {
      "cell_type": "markdown",
      "source": [
        "##Create GAN Model"
      ],
      "metadata": {
        "id": "y_uzDKih-ttV"
      }
    },
    {
      "cell_type": "code",
      "source": [
        "!pip install keras\n",
        "!pip install tensorflow\n",
        "!pip install git+https://github.com/tensorflow/docs"
      ],
      "metadata": {
        "colab": {
          "base_uri": "https://localhost:8080/"
        },
        "id": "CCEp20yCJQBg",
        "outputId": "087543c3-9921-4888-a95c-bc4a1259f7a3"
      },
      "execution_count": null,
      "outputs": [
        {
          "output_type": "stream",
          "name": "stdout",
          "text": [
            "Looking in indexes: https://pypi.org/simple, https://us-python.pkg.dev/colab-wheels/public/simple/\n",
            "Requirement already satisfied: keras in /usr/local/lib/python3.7/dist-packages (2.8.0)\n",
            "Looking in indexes: https://pypi.org/simple, https://us-python.pkg.dev/colab-wheels/public/simple/\n",
            "Requirement already satisfied: tensorflow in /usr/local/lib/python3.7/dist-packages (2.8.2+zzzcolab20220719082949)\n",
            "Requirement already satisfied: absl-py>=0.4.0 in /usr/local/lib/python3.7/dist-packages (from tensorflow) (1.2.0)\n",
            "Requirement already satisfied: h5py>=2.9.0 in /usr/local/lib/python3.7/dist-packages (from tensorflow) (3.1.0)\n",
            "Requirement already satisfied: keras-preprocessing>=1.1.1 in /usr/local/lib/python3.7/dist-packages (from tensorflow) (1.1.2)\n",
            "Requirement already satisfied: protobuf<3.20,>=3.9.2 in /usr/local/lib/python3.7/dist-packages (from tensorflow) (3.17.3)\n",
            "Requirement already satisfied: six>=1.12.0 in /usr/local/lib/python3.7/dist-packages (from tensorflow) (1.15.0)\n",
            "Requirement already satisfied: keras<2.9,>=2.8.0rc0 in /usr/local/lib/python3.7/dist-packages (from tensorflow) (2.8.0)\n",
            "Requirement already satisfied: tensorflow-io-gcs-filesystem>=0.23.1 in /usr/local/lib/python3.7/dist-packages (from tensorflow) (0.26.0)\n",
            "Requirement already satisfied: libclang>=9.0.1 in /usr/local/lib/python3.7/dist-packages (from tensorflow) (14.0.1)\n",
            "Requirement already satisfied: typing-extensions>=3.6.6 in /usr/local/lib/python3.7/dist-packages (from tensorflow) (4.1.1)\n",
            "Requirement already satisfied: tensorflow-estimator<2.9,>=2.8 in /usr/local/lib/python3.7/dist-packages (from tensorflow) (2.8.0)\n",
            "Requirement already satisfied: gast>=0.2.1 in /usr/local/lib/python3.7/dist-packages (from tensorflow) (0.5.3)\n",
            "Requirement already satisfied: numpy>=1.20 in /usr/local/lib/python3.7/dist-packages (from tensorflow) (1.21.6)\n",
            "Requirement already satisfied: termcolor>=1.1.0 in /usr/local/lib/python3.7/dist-packages (from tensorflow) (1.1.0)\n",
            "Requirement already satisfied: tensorboard<2.9,>=2.8 in /usr/local/lib/python3.7/dist-packages (from tensorflow) (2.8.0)\n",
            "Requirement already satisfied: wrapt>=1.11.0 in /usr/local/lib/python3.7/dist-packages (from tensorflow) (1.14.1)\n",
            "Requirement already satisfied: google-pasta>=0.1.1 in /usr/local/lib/python3.7/dist-packages (from tensorflow) (0.2.0)\n",
            "Requirement already satisfied: grpcio<2.0,>=1.24.3 in /usr/local/lib/python3.7/dist-packages (from tensorflow) (1.47.0)\n",
            "Requirement already satisfied: flatbuffers>=1.12 in /usr/local/lib/python3.7/dist-packages (from tensorflow) (2.0)\n",
            "Requirement already satisfied: astunparse>=1.6.0 in /usr/local/lib/python3.7/dist-packages (from tensorflow) (1.6.3)\n",
            "Requirement already satisfied: opt-einsum>=2.3.2 in /usr/local/lib/python3.7/dist-packages (from tensorflow) (3.3.0)\n",
            "Requirement already satisfied: setuptools in /usr/local/lib/python3.7/dist-packages (from tensorflow) (57.4.0)\n",
            "Requirement already satisfied: wheel<1.0,>=0.23.0 in /usr/local/lib/python3.7/dist-packages (from astunparse>=1.6.0->tensorflow) (0.37.1)\n",
            "Requirement already satisfied: cached-property in /usr/local/lib/python3.7/dist-packages (from h5py>=2.9.0->tensorflow) (1.5.2)\n",
            "Requirement already satisfied: tensorboard-data-server<0.7.0,>=0.6.0 in /usr/local/lib/python3.7/dist-packages (from tensorboard<2.9,>=2.8->tensorflow) (0.6.1)\n",
            "Requirement already satisfied: werkzeug>=0.11.15 in /usr/local/lib/python3.7/dist-packages (from tensorboard<2.9,>=2.8->tensorflow) (1.0.1)\n",
            "Requirement already satisfied: requests<3,>=2.21.0 in /usr/local/lib/python3.7/dist-packages (from tensorboard<2.9,>=2.8->tensorflow) (2.23.0)\n",
            "Requirement already satisfied: markdown>=2.6.8 in /usr/local/lib/python3.7/dist-packages (from tensorboard<2.9,>=2.8->tensorflow) (3.4.1)\n",
            "Requirement already satisfied: google-auth<3,>=1.6.3 in /usr/local/lib/python3.7/dist-packages (from tensorboard<2.9,>=2.8->tensorflow) (1.35.0)\n",
            "Requirement already satisfied: tensorboard-plugin-wit>=1.6.0 in /usr/local/lib/python3.7/dist-packages (from tensorboard<2.9,>=2.8->tensorflow) (1.8.1)\n",
            "Requirement already satisfied: google-auth-oauthlib<0.5,>=0.4.1 in /usr/local/lib/python3.7/dist-packages (from tensorboard<2.9,>=2.8->tensorflow) (0.4.6)\n",
            "Requirement already satisfied: pyasn1-modules>=0.2.1 in /usr/local/lib/python3.7/dist-packages (from google-auth<3,>=1.6.3->tensorboard<2.9,>=2.8->tensorflow) (0.2.8)\n",
            "Requirement already satisfied: rsa<5,>=3.1.4 in /usr/local/lib/python3.7/dist-packages (from google-auth<3,>=1.6.3->tensorboard<2.9,>=2.8->tensorflow) (4.9)\n",
            "Requirement already satisfied: cachetools<5.0,>=2.0.0 in /usr/local/lib/python3.7/dist-packages (from google-auth<3,>=1.6.3->tensorboard<2.9,>=2.8->tensorflow) (4.2.4)\n",
            "Requirement already satisfied: requests-oauthlib>=0.7.0 in /usr/local/lib/python3.7/dist-packages (from google-auth-oauthlib<0.5,>=0.4.1->tensorboard<2.9,>=2.8->tensorflow) (1.3.1)\n",
            "Requirement already satisfied: importlib-metadata>=4.4 in /usr/local/lib/python3.7/dist-packages (from markdown>=2.6.8->tensorboard<2.9,>=2.8->tensorflow) (4.12.0)\n",
            "Requirement already satisfied: zipp>=0.5 in /usr/local/lib/python3.7/dist-packages (from importlib-metadata>=4.4->markdown>=2.6.8->tensorboard<2.9,>=2.8->tensorflow) (3.8.1)\n",
            "Requirement already satisfied: pyasn1<0.5.0,>=0.4.6 in /usr/local/lib/python3.7/dist-packages (from pyasn1-modules>=0.2.1->google-auth<3,>=1.6.3->tensorboard<2.9,>=2.8->tensorflow) (0.4.8)\n",
            "Requirement already satisfied: urllib3!=1.25.0,!=1.25.1,<1.26,>=1.21.1 in /usr/local/lib/python3.7/dist-packages (from requests<3,>=2.21.0->tensorboard<2.9,>=2.8->tensorflow) (1.24.3)\n",
            "Requirement already satisfied: chardet<4,>=3.0.2 in /usr/local/lib/python3.7/dist-packages (from requests<3,>=2.21.0->tensorboard<2.9,>=2.8->tensorflow) (3.0.4)\n",
            "Requirement already satisfied: idna<3,>=2.5 in /usr/local/lib/python3.7/dist-packages (from requests<3,>=2.21.0->tensorboard<2.9,>=2.8->tensorflow) (2.10)\n",
            "Requirement already satisfied: certifi>=2017.4.17 in /usr/local/lib/python3.7/dist-packages (from requests<3,>=2.21.0->tensorboard<2.9,>=2.8->tensorflow) (2022.6.15)\n",
            "Requirement already satisfied: oauthlib>=3.0.0 in /usr/local/lib/python3.7/dist-packages (from requests-oauthlib>=0.7.0->google-auth-oauthlib<0.5,>=0.4.1->tensorboard<2.9,>=2.8->tensorflow) (3.2.0)\n",
            "Looking in indexes: https://pypi.org/simple, https://us-python.pkg.dev/colab-wheels/public/simple/\n",
            "Collecting git+https://github.com/tensorflow/docs\n",
            "  Cloning https://github.com/tensorflow/docs to /tmp/pip-req-build-kpkm_ves\n",
            "  Running command git clone -q https://github.com/tensorflow/docs /tmp/pip-req-build-kpkm_ves\n",
            "Requirement already satisfied: astor in /usr/local/lib/python3.7/dist-packages (from tensorflow-docs==0.0.0.dev0) (0.8.1)\n",
            "Requirement already satisfied: absl-py in /usr/local/lib/python3.7/dist-packages (from tensorflow-docs==0.0.0.dev0) (1.2.0)\n",
            "Requirement already satisfied: jinja2 in /usr/local/lib/python3.7/dist-packages (from tensorflow-docs==0.0.0.dev0) (2.11.3)\n",
            "Requirement already satisfied: protobuf<3.20,>=3.12.0 in /usr/local/lib/python3.7/dist-packages (from tensorflow-docs==0.0.0.dev0) (3.17.3)\n",
            "Requirement already satisfied: pyyaml in /usr/local/lib/python3.7/dist-packages (from tensorflow-docs==0.0.0.dev0) (3.13)\n",
            "Requirement already satisfied: six>=1.9 in /usr/local/lib/python3.7/dist-packages (from protobuf<3.20,>=3.12.0->tensorflow-docs==0.0.0.dev0) (1.15.0)\n",
            "Requirement already satisfied: MarkupSafe>=0.23 in /usr/local/lib/python3.7/dist-packages (from jinja2->tensorflow-docs==0.0.0.dev0) (2.0.1)\n",
            "Building wheels for collected packages: tensorflow-docs\n",
            "  Building wheel for tensorflow-docs (setup.py) ... \u001b[?25l\u001b[?25hdone\n",
            "  Created wheel for tensorflow-docs: filename=tensorflow_docs-0.0.0.dev0-py3-none-any.whl size=180247 sha256=8a5076117abefba2c80ed7ee1d51c4c03b37f84fc24cade879c7f144824d06e8\n",
            "  Stored in directory: /tmp/pip-ephem-wheel-cache-o_6nept8/wheels/cc/c4/d8/5341e93b6376c5c929c49469fce21155eb69cef1a4da4ce32c\n",
            "Successfully built tensorflow-docs\n",
            "Installing collected packages: tensorflow-docs\n",
            "Successfully installed tensorflow-docs-0.0.0.dev0\n"
          ]
        }
      ]
    },
    {
      "cell_type": "code",
      "source": [
        "from keras.layers import Activation, Dropout, Flatten, Dense, Input, LeakyReLU\n",
        "from keras.layers import BatchNormalization\n",
        "from keras.layers import concatenate, multiply\n",
        "from keras.layers import Embedding\n",
        "from keras.models import Model, Sequential\n",
        "from tensorflow.keras.utils import to_categorical\n",
        "import tensorflow\n",
        "import keras\n",
        "from tensorflow.keras.optimizers import Adam, RMSprop, SGD\n",
        "from tensorflow import keras\n",
        "from tensorflow.keras import layers\n",
        "from tensorflow_docs.vis import embed\n",
        "import matplotlib.pyplot as plt\n",
        "import tensorflow as tf"
      ],
      "metadata": {
        "id": "nG_5A57lJcD3"
      },
      "execution_count": null,
      "outputs": []
    },
    {
      "cell_type": "code",
      "source": [
        "#some initialization for GAN Model\n",
        "batch_size = 64\n",
        "num_channels = 11 # number of our features\n",
        "num_classes = 2 #number of classes\n",
        "latent_dim = 128 "
      ],
      "metadata": {
        "id": "aqLnP1ABJe_3"
      },
      "execution_count": null,
      "outputs": []
    },
    {
      "cell_type": "code",
      "source": [
        "np.random.seed(42)"
      ],
      "metadata": {
        "id": "ibKfZcO0f2qU"
      },
      "execution_count": null,
      "outputs": []
    },
    {
      "cell_type": "code",
      "source": [
        "labels = keras.utils.to_categorical(y_train, 2)\n",
        "\n",
        "# Create tf.data.Dataset.\n",
        "dataset = tf.data.Dataset.from_tensor_slices((X_train ,labels))\n",
        "dataset = dataset.shuffle(buffer_size=1024).batch(batch_size)\n",
        "\n",
        "print(f\"Shape of training set: {X_train.shape}\")\n",
        "print(f\"Shape of training set: {labels.shape}\")"
      ],
      "metadata": {
        "colab": {
          "base_uri": "https://localhost:8080/"
        },
        "id": "bpPjtBhpJg0W",
        "outputId": "19681cdf-6c26-407a-b2a2-b27d64448b43"
      },
      "execution_count": null,
      "outputs": [
        {
          "output_type": "stream",
          "name": "stdout",
          "text": [
            "Shape of training set: (11587, 11)\n",
            "Shape of training set: (11587, 2)\n"
          ]
        }
      ]
    },
    {
      "cell_type": "code",
      "source": [
        "generator_in_channels = latent_dim + num_classes\n",
        "discriminator_in_channels = num_channels + num_classes\n",
        "print(generator_in_channels, discriminator_in_channels)"
      ],
      "metadata": {
        "colab": {
          "base_uri": "https://localhost:8080/"
        },
        "id": "1bRX3BpFJg5X",
        "outputId": "075ebd51-1550-41df-c65e-00b61a30f1d5"
      },
      "execution_count": null,
      "outputs": [
        {
          "output_type": "stream",
          "name": "stdout",
          "text": [
            "130 13\n"
          ]
        }
      ]
    },
    {
      "cell_type": "code",
      "source": [
        "\n",
        "# the discriminator.\n",
        "discriminator = keras.Sequential(\n",
        "    [\n",
        "        keras.layers.InputLayer(input_shape =   discriminator_in_channels),\n",
        "        layers.Dense(512),\n",
        "        layers.LeakyReLU(alpha=0.2),\n",
        "\n",
        "        layers.Dense(512),\n",
        "        layers.LeakyReLU(alpha=0.2),\n",
        "        layers.Dropout(0.2),\n",
        "\n",
        "        layers.Dense(1 ,activation=\"sigmoid\")\n",
        "\n",
        "   \n",
        "    ],\n",
        "    name=\"discriminator\",\n",
        ")\n",
        "\n",
        "\n",
        "# Create the generator.\n",
        "generator = keras.Sequential(\n",
        "    [\n",
        "        keras.layers.InputLayer((generator_in_channels)),\n",
        "        layers.Dense(256),\n",
        "        layers.LeakyReLU(alpha=0.2),\n",
        "        layers.BatchNormalization(momentum=0.8),\n",
        "        layers.Dense(512),\n",
        "        layers.LeakyReLU(alpha=0.2),\n",
        "        layers.BatchNormalization(momentum=0.8),\n",
        "        layers.Dense(11)\n",
        "    ],\n",
        "    name=\"generator\",\n",
        ")"
      ],
      "metadata": {
        "id": "-QLvNpPTJl6-"
      },
      "execution_count": null,
      "outputs": []
    },
    {
      "cell_type": "code",
      "source": [
        "#Creating a ConditionalGAN model \n",
        "class ConditionalGAN(keras.Model):\n",
        "    def __init__(self, discriminator, generator, latent_dim):\n",
        "        super(ConditionalGAN, self).__init__()\n",
        "        self.discriminator = discriminator\n",
        "        self.generator = generator\n",
        "        self.latent_dim = latent_dim\n",
        "        self.gen_loss_tracker = keras.metrics.Mean(name=\"generator_loss\")\n",
        "        self.disc_loss_tracker = keras.metrics.Mean(name=\"discriminator_loss\")\n",
        "\n",
        "    @property\n",
        "    def metrics(self):\n",
        "        return [self.gen_loss_tracker, self.disc_loss_tracker]\n",
        "\n",
        "    def compile(self, d_optimizer, g_optimizer, loss_fn):\n",
        "        super(ConditionalGAN, self).compile()\n",
        "        self.d_optimizer = d_optimizer\n",
        "        self.g_optimizer = g_optimizer\n",
        "        self.loss_fn = loss_fn\n",
        "\n",
        "    def train_step(self, data):\n",
        "        # Unpack the data.\n",
        "        real_Tasks, one_hot_labels = data\n",
        "        real_Tasks = tf.cast(real_Tasks,tf.float32)\n",
        "\n",
        "        print(one_hot_labels.dtype)\n",
        "        print(real_Tasks.dtype)\n",
        "        # Add dummy dimensions to the labels so that they can be concatenated with\n",
        "        # the Tasks. This is for the discriminator.\n",
        "\n",
        "        Task_one_hot_labels = one_hot_labels[:, :, None, None]\n",
        "        Task_one_hot_labels = tf.reshape(\n",
        "            Task_one_hot_labels, (-1,  num_classes)\n",
        "        )\n",
        "\n",
        "        # Sample random points in the latent space and concatenate the labels.\n",
        "        # This is for the generator.\n",
        "        batch_size = tf.shape(real_Tasks)[0]\n",
        "        random_latent_vectors = tf.random.normal(shape=(batch_size, self.latent_dim))\n",
        "        random_vector_labels = tf.concat(\n",
        "            [random_latent_vectors, one_hot_labels], axis=1\n",
        "        )\n",
        "\n",
        "        # Decode the noise (guided by labels) to fake Tasks.\n",
        "        generated_Tasks = self.generator(random_vector_labels)\n",
        "\n",
        "        # Combine them with real Tasks. Note that we are concatenating the labels\n",
        "        # with these Tasks here.\n",
        "        \n",
        "        fake_Task_and_labels = tf.concat([generated_Tasks, Task_one_hot_labels], -1)\n",
        "\n",
        "        real_Task_and_labels = tf.concat([real_Tasks, Task_one_hot_labels], -1)\n",
        "\n",
        "        combined_Tasks = tf.concat(\n",
        "            [fake_Task_and_labels, real_Task_and_labels], axis=0\n",
        "        )\n",
        "\n",
        "        # Assemble labels discriminating real from fake Tasks.\n",
        "        labels = tf.concat(\n",
        "            [tf.ones((batch_size, 1)), tf.zeros((batch_size, 1))], axis=0\n",
        "        )\n",
        "\n",
        "        # Train the discriminator.\n",
        "        with tf.GradientTape() as tape:\n",
        "\n",
        "            predictions = self.discriminator(combined_Tasks)\n",
        "            d_loss = self.loss_fn(labels, predictions)\n",
        "        grads = tape.gradient(d_loss, self.discriminator.trainable_weights)\n",
        "        self.d_optimizer.apply_gradients(\n",
        "            zip(grads, self.discriminator.trainable_weights)\n",
        "        )\n",
        "\n",
        "        # Sample random points in the latent space.\n",
        "        random_latent_vectors = tf.random.normal(shape=(batch_size, self.latent_dim))\n",
        "        random_vector_labels = tf.concat(\n",
        "            [random_latent_vectors, one_hot_labels], axis=1\n",
        "        )\n",
        "\n",
        "        # Assemble labels that say \"all real Tasks\".\n",
        "        misleading_labels = tf.zeros((batch_size, 1))\n",
        "        \n",
        "        # Train the generator (note that we should *not* update the weights\n",
        "        # of the discriminator)!\n",
        "        with tf.GradientTape() as tape:\n",
        "            fake_Tasks = self.generator(random_vector_labels)\n",
        "            fake_Task_and_labels = tf.concat([fake_Tasks, Task_one_hot_labels], -1)\n",
        "\n",
        "            predictions = self.discriminator(fake_Task_and_labels)\n",
        "            g_loss = self.loss_fn(misleading_labels, predictions)\n",
        "        grads = tape.gradient(g_loss, self.generator.trainable_weights)\n",
        "        self.g_optimizer.apply_gradients(zip(grads, self.generator.trainable_weights))\n",
        "\n",
        "        # Monitor loss.\n",
        "        self.gen_loss_tracker.update_state(g_loss)\n",
        "        self.disc_loss_tracker.update_state(d_loss)\n",
        "        return {\n",
        "            \"g_loss\": self.gen_loss_tracker.result(),\n",
        "            \"d_loss\": self.disc_loss_tracker.result(),\n",
        "        }\n",
        "\n"
      ],
      "metadata": {
        "id": "PutKCGQHJn8m"
      },
      "execution_count": null,
      "outputs": []
    },
    {
      "cell_type": "code",
      "source": [
        "#Training the Conditional GAN\n",
        "\n",
        "cond_gan = ConditionalGAN(\n",
        "    discriminator=discriminator, generator=generator, latent_dim=latent_dim\n",
        ")\n",
        "cond_gan.compile(\n",
        "    d_optimizer=keras.optimizers.Adam(learning_rate=0.0003),\n",
        "    g_optimizer=keras.optimizers.Adam(learning_rate=0.0003),\n",
        "    loss_fn=keras.losses.BinaryCrossentropy(),\n",
        ")\n",
        "\n",
        "cond_gan.fit(dataset, epochs=50)"
      ],
      "metadata": {
        "colab": {
          "base_uri": "https://localhost:8080/"
        },
        "id": "KrMQVWT9AkRN",
        "outputId": "70dc4fdc-fc7f-4b34-f347-2147b6aa5cda"
      },
      "execution_count": null,
      "outputs": [
        {
          "output_type": "stream",
          "name": "stdout",
          "text": [
            "Epoch 1/50\n",
            "<dtype: 'float32'>\n",
            "<dtype: 'float32'>\n",
            "<dtype: 'float32'>\n",
            "<dtype: 'float32'>\n",
            "182/182 [==============================] - 2s 5ms/step - g_loss: 0.8082 - d_loss: 0.7817\n",
            "Epoch 2/50\n",
            "182/182 [==============================] - 1s 6ms/step - g_loss: 0.9933 - d_loss: 0.6768\n",
            "Epoch 3/50\n",
            "182/182 [==============================] - 1s 7ms/step - g_loss: 0.9738 - d_loss: 0.5997\n",
            "Epoch 4/50\n",
            "182/182 [==============================] - 1s 5ms/step - g_loss: 0.9448 - d_loss: 0.6202\n",
            "Epoch 5/50\n",
            "182/182 [==============================] - 1s 5ms/step - g_loss: 0.9045 - d_loss: 0.6515\n",
            "Epoch 6/50\n",
            "182/182 [==============================] - 1s 5ms/step - g_loss: 0.9024 - d_loss: 0.6145\n",
            "Epoch 7/50\n",
            "182/182 [==============================] - 1s 5ms/step - g_loss: 0.8998 - d_loss: 0.6496\n",
            "Epoch 8/50\n",
            "182/182 [==============================] - 1s 5ms/step - g_loss: 0.9356 - d_loss: 0.5730\n",
            "Epoch 9/50\n",
            "182/182 [==============================] - 1s 5ms/step - g_loss: 0.8971 - d_loss: 0.6822\n",
            "Epoch 10/50\n",
            "182/182 [==============================] - 1s 5ms/step - g_loss: 0.9783 - d_loss: 0.5733\n",
            "Epoch 11/50\n",
            "182/182 [==============================] - 1s 5ms/step - g_loss: 0.8541 - d_loss: 0.6302\n",
            "Epoch 12/50\n",
            "182/182 [==============================] - 1s 5ms/step - g_loss: 0.9868 - d_loss: 0.6195\n",
            "Epoch 13/50\n",
            "182/182 [==============================] - 1s 5ms/step - g_loss: 0.9327 - d_loss: 0.5770\n",
            "Epoch 14/50\n",
            "182/182 [==============================] - 1s 5ms/step - g_loss: 0.9441 - d_loss: 0.6185\n",
            "Epoch 15/50\n",
            "182/182 [==============================] - 1s 5ms/step - g_loss: 0.9693 - d_loss: 0.6271\n",
            "Epoch 16/50\n",
            "182/182 [==============================] - 1s 5ms/step - g_loss: 0.8871 - d_loss: 0.6291\n",
            "Epoch 17/50\n",
            "182/182 [==============================] - 1s 5ms/step - g_loss: 0.9305 - d_loss: 0.5707\n",
            "Epoch 18/50\n",
            "182/182 [==============================] - 1s 5ms/step - g_loss: 0.8566 - d_loss: 0.6393\n",
            "Epoch 19/50\n",
            "182/182 [==============================] - 1s 5ms/step - g_loss: 0.8631 - d_loss: 0.6652\n",
            "Epoch 20/50\n",
            "182/182 [==============================] - 1s 7ms/step - g_loss: 0.9356 - d_loss: 0.6419\n",
            "Epoch 21/50\n",
            "182/182 [==============================] - 1s 5ms/step - g_loss: 1.0687 - d_loss: 0.6667\n",
            "Epoch 22/50\n",
            "182/182 [==============================] - 1s 5ms/step - g_loss: 1.0138 - d_loss: 0.5580\n",
            "Epoch 23/50\n",
            "182/182 [==============================] - 1s 5ms/step - g_loss: 1.0068 - d_loss: 0.5831\n",
            "Epoch 24/50\n",
            "182/182 [==============================] - 1s 5ms/step - g_loss: 0.9324 - d_loss: 0.6423\n",
            "Epoch 25/50\n",
            "182/182 [==============================] - 1s 5ms/step - g_loss: 1.0003 - d_loss: 0.6372\n",
            "Epoch 26/50\n",
            "182/182 [==============================] - 1s 5ms/step - g_loss: 0.9556 - d_loss: 0.6343\n",
            "Epoch 27/50\n",
            "182/182 [==============================] - 1s 5ms/step - g_loss: 1.0631 - d_loss: 0.7060\n",
            "Epoch 28/50\n",
            "182/182 [==============================] - 1s 5ms/step - g_loss: 0.8745 - d_loss: 0.6114\n",
            "Epoch 29/50\n",
            "182/182 [==============================] - 1s 5ms/step - g_loss: 1.0174 - d_loss: 0.6503\n",
            "Epoch 30/50\n",
            "182/182 [==============================] - 1s 5ms/step - g_loss: 0.9857 - d_loss: 0.5714\n",
            "Epoch 31/50\n",
            "182/182 [==============================] - 1s 5ms/step - g_loss: 1.0857 - d_loss: 0.5983\n",
            "Epoch 32/50\n",
            "182/182 [==============================] - 1s 5ms/step - g_loss: 0.9281 - d_loss: 0.5854\n",
            "Epoch 33/50\n",
            "182/182 [==============================] - 1s 5ms/step - g_loss: 1.0300 - d_loss: 0.6093\n",
            "Epoch 34/50\n",
            "182/182 [==============================] - 1s 5ms/step - g_loss: 1.1172 - d_loss: 0.6118\n",
            "Epoch 35/50\n",
            "182/182 [==============================] - 1s 5ms/step - g_loss: 1.0072 - d_loss: 0.5529\n",
            "Epoch 36/50\n",
            "182/182 [==============================] - 1s 5ms/step - g_loss: 1.0117 - d_loss: 0.5744\n",
            "Epoch 37/50\n",
            "182/182 [==============================] - 1s 5ms/step - g_loss: 0.9946 - d_loss: 0.6028\n",
            "Epoch 38/50\n",
            "182/182 [==============================] - 1s 5ms/step - g_loss: 0.9357 - d_loss: 0.6676\n",
            "Epoch 39/50\n",
            "182/182 [==============================] - 1s 5ms/step - g_loss: 1.0936 - d_loss: 0.5449\n",
            "Epoch 40/50\n",
            "182/182 [==============================] - 1s 5ms/step - g_loss: 0.9538 - d_loss: 0.6240\n",
            "Epoch 41/50\n",
            "182/182 [==============================] - 1s 5ms/step - g_loss: 0.9317 - d_loss: 0.6196\n",
            "Epoch 42/50\n",
            "182/182 [==============================] - 1s 5ms/step - g_loss: 0.9826 - d_loss: 0.6150\n",
            "Epoch 43/50\n",
            "182/182 [==============================] - 1s 5ms/step - g_loss: 1.0268 - d_loss: 0.6101\n",
            "Epoch 44/50\n",
            "182/182 [==============================] - 1s 5ms/step - g_loss: 0.9645 - d_loss: 0.5977\n",
            "Epoch 45/50\n",
            "182/182 [==============================] - 1s 5ms/step - g_loss: 0.9972 - d_loss: 0.6032\n",
            "Epoch 46/50\n",
            "182/182 [==============================] - 1s 5ms/step - g_loss: 1.0005 - d_loss: 0.5472\n",
            "Epoch 47/50\n",
            "182/182 [==============================] - 1s 5ms/step - g_loss: 0.9449 - d_loss: 0.6269\n",
            "Epoch 48/50\n",
            "182/182 [==============================] - 1s 5ms/step - g_loss: 0.9833 - d_loss: 0.5678\n",
            "Epoch 49/50\n",
            "182/182 [==============================] - 1s 5ms/step - g_loss: 0.9812 - d_loss: 0.6676\n",
            "Epoch 50/50\n",
            "182/182 [==============================] - 1s 5ms/step - g_loss: 1.1078 - d_loss: 0.6643\n"
          ]
        },
        {
          "output_type": "execute_result",
          "data": {
            "text/plain": [
              "<keras.callbacks.History at 0x7fc0bc126090>"
            ]
          },
          "metadata": {},
          "execution_count": 39
        }
      ]
    },
    {
      "cell_type": "code",
      "source": [
        "#We first extract the trained generator from our Conditiona GAN.\n",
        "trained_gen = cond_gan.generator\n",
        "\n",
        "# Choose the number of intermediate functions that would be generated in\n",
        "# between the interpolation + 2 (start and last functions).\n",
        "num_interpolation = 1000  # @param {type:\"integer\"}\n",
        "\n",
        "# Sample noise for the interpolation.\n",
        "interpolation_noise = tf.random.normal(shape=(1, latent_dim))\n",
        "interpolation_noise = tf.repeat(interpolation_noise, repeats=num_interpolation)\n",
        "interpolation_noise = tf.reshape(interpolation_noise, (num_interpolation, latent_dim))\n",
        "\n",
        "\n",
        "def interpolate_class(Class):\n",
        "    # Convert the start and end labels to one-hot encoded vectors.\n",
        "    first_label = keras.utils.to_categorical([Class]*num_interpolation, num_classes)\n",
        "    noise_and_labels = tf.concat([interpolation_noise, first_label], 1)\n",
        "    fake = trained_gen.predict(noise_and_labels)\n",
        "    return fake\n",
        "\n",
        "class_ = 1\n",
        "fake_Functions = interpolate_class(class_)"
      ],
      "metadata": {
        "id": "IewJO98iY3Ka"
      },
      "execution_count": null,
      "outputs": []
    },
    {
      "cell_type": "code",
      "source": [
        ""
      ],
      "metadata": {
        "id": "pHMz_mG_tRLw"
      },
      "execution_count": null,
      "outputs": []
    },
    {
      "cell_type": "code",
      "source": [
        "X_test_conbination_withoutCascade = np.concatenate((fake_Functions,X_test) , axis = 0)\n",
        "y_test_conbination_withoutCascade =  np.concatenate((y_test[\"Ligitimacy\"].values,np.zeros(num_interpolation)) , axis = 0).astype(\"int\")\n",
        "print(fake_Functions)\n",
        "print(len(fake_Functions))\n",
        "print(len(X_test))\n",
        "print(len(X_test_conbination_withoutCascade))\n",
        "print(len(y_test_conbination_withoutCascade))\n",
        "print(X_test_conbination_withoutCascade)\n",
        "print(y_test_conbination_withoutCascade)"
      ],
      "metadata": {
        "id": "zFjbYbghN8l-",
        "colab": {
          "base_uri": "https://localhost:8080/"
        },
        "outputId": "31bf6982-4a83-429f-8b73-49a76e095bb4"
      },
      "execution_count": null,
      "outputs": [
        {
          "output_type": "stream",
          "name": "stdout",
          "text": [
            "[[ 0.44655564 -0.00882204 -0.75256646 ... -0.17957763 -0.97088337\n",
            "   0.39706036]\n",
            " [ 0.44655564 -0.00882204 -0.75256646 ... -0.17957763 -0.97088337\n",
            "   0.39706036]\n",
            " [ 0.44655564 -0.00882204 -0.75256646 ... -0.17957763 -0.97088337\n",
            "   0.39706036]\n",
            " ...\n",
            " [ 0.91407704 -0.15935181 -1.1258625  ... -1.3009357  -1.0168563\n",
            "   0.87498784]\n",
            " [ 0.91407704 -0.15935181 -1.1258625  ... -1.3009357  -1.0168563\n",
            "   0.87498784]\n",
            " [ 0.91407704 -0.15935181 -1.1258625  ... -1.3009357  -1.0168563\n",
            "   0.87498784]]\n",
            "1000\n",
            "2897\n",
            "3897\n",
            "3897\n",
            "[[ 0.44655564 -0.00882204 -0.75256646 ... -0.17957763 -0.97088337\n",
            "   0.39706036]\n",
            " [ 0.44655564 -0.00882204 -0.75256646 ... -0.17957763 -0.97088337\n",
            "   0.39706036]\n",
            " [ 0.44655564 -0.00882204 -0.75256646 ... -0.17957763 -0.97088337\n",
            "   0.39706036]\n",
            " ...\n",
            " [ 0.26823112 -0.52147256  0.66666667 ... -0.77142857 -1.\n",
            "   0.26820203]\n",
            " [ 0.69844978 -0.65032058 -1.         ... -0.91428571 -1.\n",
            "   0.70720804]\n",
            " [ 0.06094813  0.72749145  0.33333333 ...  0.88571429  1.\n",
            "   0.0731824 ]]\n",
            "[1 0 0 ... 0 0 0]\n"
          ]
        }
      ]
    },
    {
      "cell_type": "markdown",
      "source": [
        "# **Use previous RF and Adaboost classification models separately to predict our using training + GAN generated dataset before cascading .**"
      ],
      "metadata": {
        "id": "zzL-Y6VZHVqB"
      }
    },
    {
      "cell_type": "markdown",
      "source": [
        "##RF"
      ],
      "metadata": {
        "id": "oQSHwcuCJCLJ"
      }
    },
    {
      "cell_type": "code",
      "source": [
        " # RF Testing accuracy of our result data that combined the original data plut the generated data before cascading\n",
        "ypredRF_testing_conbination_withoutCascade =RFclf.predict(X_test_conbination_withoutCascade)\n",
        "RandomForest_test_acc_conbination_withoutCascade = accuracy_score(y_test_conbination_withoutCascade, ypredRF_testing_conbination_withoutCascade)\n",
        "print(f'Testing accuracy of Random Forest of our result data that combined the original data plut the generated data before cascading: {RandomForest_test_acc_conbination_withoutCascade*100}%')\n",
        "print('Classification Report for RF of our result data that combined the original data plut the generated data before cascading')\n",
        "print(classification_report(y_test_conbination_withoutCascade, ypredRF_testing_conbination_withoutCascade))\n",
        "getConfusionMatrix(RFclf,X_test_conbination_withoutCascade,y_test_conbination_withoutCascade,\"Confusion Matrix for Testing RF Model of our result data that combined the original data plut the generated data before cascading\")\n",
        " "
      ],
      "metadata": {
        "colab": {
          "base_uri": "https://localhost:8080/",
          "height": 532
        },
        "id": "4gvK2IykEH0B",
        "outputId": "de843ae7-9c9d-4e5a-bcf1-af16fadd1683"
      },
      "execution_count": null,
      "outputs": [
        {
          "output_type": "stream",
          "name": "stdout",
          "text": [
            "Testing accuracy of Random Forest of our result data that combined the original data plut the generated data before cascading: 63.61303566846293%\n",
            "Classification Report for RF of our result data that combined the original data plut the generated data before cascading\n",
            "              precision    recall  f1-score   support\n",
            "\n",
            "           0       0.45      0.12      0.19      1379\n",
            "           1       0.66      0.92      0.77      2518\n",
            "\n",
            "    accuracy                           0.64      3897\n",
            "   macro avg       0.55      0.52      0.48      3897\n",
            "weighted avg       0.58      0.64      0.56      3897\n",
            "\n",
            "[[ 165 1214]\n",
            " [ 204 2314]]\n"
          ]
        },
        {
          "output_type": "display_data",
          "data": {
            "text/plain": [
              "<Figure size 432x288 with 2 Axes>"
            ],
            "image/png": "[encoded data removed]"
          },
          "metadata": {
            "needs_background": "light"
          }
        }
      ]
    },
    {
      "cell_type": "markdown",
      "source": [
        "##AdaBoost"
      ],
      "metadata": {
        "id": "TqNZEpktJVsR"
      }
    },
    {
      "cell_type": "code",
      "source": [
        "# Adaboost Testing accuracy of our result data that combined the original data plut the generated data before cascading\n",
        "ypredAda_testing_conbination_withoutCascade =Adaclf.predict(X_test_conbination_withoutCascade)\n",
        "Ada_test_acc_conbination_withoutCascade = accuracy_score(y_test_conbination_withoutCascade, ypredAda_testing_conbination_withoutCascade)\n",
        "print(f'Testing accuracy of Adaboost of our result data that combined the original data plut the generated data before cascading: {Ada_test_acc_conbination_withoutCascade*100}%')\n",
        "print('Classification Report for Adaboost of our result data that combined the original data plut the generated data before cascading')\n",
        "print(classification_report(y_test_conbination_withoutCascade, ypredAda_testing_conbination_withoutCascade))\n",
        "getConfusionMatrix(Adaclf,X_test_conbination_withoutCascade,y_test_conbination_withoutCascade,\"Confusion Matrix for Testing Adaboost Model of our result data that combined the original data plut the generated data before cascading\")\n",
        " "
      ],
      "metadata": {
        "colab": {
          "base_uri": "https://localhost:8080/",
          "height": 532
        },
        "id": "Gd11QDkMJYEw",
        "outputId": "b373fb97-48d1-409c-983d-efd7f934e126"
      },
      "execution_count": null,
      "outputs": [
        {
          "output_type": "stream",
          "name": "stdout",
          "text": [
            "Testing accuracy of Adaboost of our result data that combined the original data plut the generated data before cascading: 63.81832178598922%\n",
            "Classification Report for Adaboost of our result data that combined the original data plut the generated data before cascading\n",
            "              precision    recall  f1-score   support\n",
            "\n",
            "           0       0.46      0.12      0.19      1379\n",
            "           1       0.66      0.92      0.77      2518\n",
            "\n",
            "    accuracy                           0.64      3897\n",
            "   macro avg       0.56      0.52      0.48      3897\n",
            "weighted avg       0.59      0.64      0.56      3897\n",
            "\n",
            "[[ 170 1209]\n",
            " [ 201 2317]]\n"
          ]
        },
        {
          "output_type": "display_data",
          "data": {
            "text/plain": [
              "<Figure size 432x288 with 2 Axes>"
            ],
            "image/png": "[encoded data removed]"
          },
          "metadata": {
            "needs_background": "light"
          }
        }
      ]
    },
    {
      "cell_type": "code",
      "source": [
        "data = { 'RF':RandomForest_test_acc_conbination_withoutCascade*100,'adaBoost':Ada_test_acc_conbination_withoutCascade*100}\n",
        "models = list(data.keys())\n",
        "accuracies = list(data.values())  \n",
        "fig = plt.figure(figsize = (10, 5))\n",
        "# creating the bar plot\n",
        "plt.bar(models, accuracies, color ='maroon',width = 0.4)\n",
        "plt.xlabel(\"Models\")\n",
        "plt.ylabel(\"Accuracies\")\n",
        "plt.title(\"AdaBoost and RF Testign Accuracies for Comined Dataset Before Cascading\")\n",
        "plt.show()\n"
      ],
      "metadata": {
        "colab": {
          "base_uri": "https://localhost:8080/",
          "height": 350
        },
        "id": "alQYD2tpKWOm",
        "outputId": "1e5ae992-a8f0-4800-94a4-f64ce744cb65"
      },
      "execution_count": null,
      "outputs": [
        {
          "output_type": "display_data",
          "data": {
            "text/plain": [
              "<Figure size 720x360 with 1 Axes>"
            ],
            "image/png": "[encoded data removed]"
          },
          "metadata": {
            "needs_background": "light"
          }
        }
      ]
    },
    {
      "cell_type": "markdown",
      "source": [
        "##**Cascading Process to Enhance Testing Results**"
      ],
      "metadata": {
        "id": "HjtIAmoBLY4Z"
      }
    },
    {
      "cell_type": "code",
      "source": [
        "y_test_conbination_withoutCascade\n",
        "# Count occurrence of element '0' in numpy array\n",
        "count_0 = (y_test_conbination_withoutCascade == 0).sum()\n",
        "print(count_0)\n",
        "# Count occurrence of element '1' in numpy array\n",
        "count_1 = (y_test_conbination_withoutCascade == 1).sum()\n",
        "print(count_1)"
      ],
      "metadata": {
        "colab": {
          "base_uri": "https://localhost:8080/"
        },
        "id": "ZZ8Bg5sHL09Q",
        "outputId": "558f663d-8329-440a-fe66-4310d12cea4e"
      },
      "execution_count": null,
      "outputs": [
        {
          "output_type": "stream",
          "name": "stdout",
          "text": [
            "1379\n",
            "2518\n"
          ]
        }
      ]
    },
    {
      "cell_type": "code",
      "source": [
        "#prepare our data to the discriminator\n",
        "y_one_hot = keras.utils.to_categorical(y_test_conbination_withoutCascade, 2)\n",
        "data_for_discriminator = tf.concat([X_test_conbination_withoutCascade, y_one_hot], axis=1 )\n",
        "print(len(data_for_discriminator))\n",
        "#run the discrimintaor as first level classifier\n",
        "discriminator_pred = cond_gan.discriminator.predict(data_for_discriminator)\n",
        "#convert the output to labels of 0 and 1\n",
        "discriminator_pred = np.round(discriminator_pred) \n",
        "data_index_that_predicted_from_discriminator = np.where(discriminator_pred == 1)[0]\n",
        "print(data_index_that_predicted_from_discriminator)\n",
        "print(data_index_that_predicted_from_discriminator.shape)\n",
        "X_test_conbination_Cascade = X_test_conbination_withoutCascade[data_index_that_predicted_from_discriminator]\n",
        "print(X_test_conbination_Cascade.shape)\n",
        "y_test_conbination_Cascade = np.ones(X_test_conbination_Cascade.shape[0]).astype(\"int\")"
      ],
      "metadata": {
        "colab": {
          "base_uri": "https://localhost:8080/"
        },
        "id": "z5f4WuKZLzTa",
        "outputId": "bd78e9ab-d9a9-4d21-ef08-600d629fbc72"
      },
      "execution_count": null,
      "outputs": [
        {
          "output_type": "stream",
          "name": "stdout",
          "text": [
            "3897\n",
            "[   0    1    2 ... 3892 3894 3895]\n",
            "(2417,)\n",
            "(2417, 11)\n"
          ]
        }
      ]
    },
    {
      "cell_type": "markdown",
      "source": [
        "# **Use previous RF and Adaboost classification models separately to predict our using training + GAN generated dataset after cascading .**"
      ],
      "metadata": {
        "id": "4motIeU_LPfb"
      }
    },
    {
      "cell_type": "markdown",
      "source": [
        "##**RF**"
      ],
      "metadata": {
        "id": "PVMqejo9VHzr"
      }
    },
    {
      "cell_type": "code",
      "source": [
        " # RF Testing accuracy of our result data that combined the original data plut the generated data before cascading\n",
        "ypredRF_testing_conbination_Cascade =RFclf.predict(X_test_conbination_Cascade)\n",
        "RandomForest_test_acc_conbination_Cascade = accuracy_score(y_test_conbination_Cascade, ypredRF_testing_conbination_Cascade)\n",
        "print(f'Testing accuracy of Random Forest of our result data that combined the original data plut the generated data After cascading: {RandomForest_test_acc_conbination_Cascade*100}%')\n",
        "print('Classification Report for RF of our result data that combined the original data plut the generated data After cascading')\n",
        "print(classification_report(y_test_conbination_Cascade, ypredRF_testing_conbination_Cascade))\n",
        "getConfusionMatrix(RFclf,X_test_conbination_Cascade,y_test_conbination_Cascade,\"Confusion Matrix for Testing RF Model of our result data that combined the original data plut the generated data After cascading\")\n",
        " "
      ],
      "metadata": {
        "colab": {
          "base_uri": "https://localhost:8080/",
          "height": 532
        },
        "id": "0qhgjGZuLPry",
        "outputId": "7386e758-8229-49c6-d09a-bfd1c6547c3f"
      },
      "execution_count": null,
      "outputs": [
        {
          "output_type": "stream",
          "name": "stdout",
          "text": [
            "Testing accuracy of Random Forest of our result data that combined the original data plut the generated data After cascading: 94.86967314853125%\n",
            "Classification Report for RF of our result data that combined the original data plut the generated data After cascading\n",
            "              precision    recall  f1-score   support\n",
            "\n",
            "           0       0.00      0.00      0.00         0\n",
            "           1       1.00      0.95      0.97      2417\n",
            "\n",
            "    accuracy                           0.95      2417\n",
            "   macro avg       0.50      0.47      0.49      2417\n",
            "weighted avg       1.00      0.95      0.97      2417\n",
            "\n",
            "[[   0    0]\n",
            " [ 124 2293]]\n"
          ]
        },
        {
          "output_type": "display_data",
          "data": {
            "text/plain": [
              "<Figure size 432x288 with 2 Axes>"
            ],
            "image/png": "[encoded data removed]"
          },
          "metadata": {
            "needs_background": "light"
          }
        }
      ]
    },
    {
      "cell_type": "markdown",
      "source": [
        "##**AdaBoost**"
      ],
      "metadata": {
        "id": "d6l30SI5VoZi"
      }
    },
    {
      "cell_type": "code",
      "source": [
        "# Adaboost Testing accuracy of our result data that combined the original data plut the generated data After cascading\n",
        "ypredAda_testing_conbination_Cascade =Adaclf.predict(X_test_conbination_Cascade)\n",
        "Ada_test_acc_conbination_Cascade = accuracy_score(y_test_conbination_Cascade, ypredAda_testing_conbination_Cascade)\n",
        "print(f'Testing accuracy of Adaboost of our result data that combined the original data plut the generated data After cascading: {Ada_test_acc_conbination_Cascade*100}%')\n",
        "print('Classification Report for Adaboost of our result data that combined the original data plut the generated data After cascading')\n",
        "print(classification_report(y_test_conbination_Cascade, ypredAda_testing_conbination_Cascade))\n",
        "getConfusionMatrix(Adaclf,X_test_conbination_Cascade,y_test_conbination_Cascade,\n",
        "\"Confusion Matrix for Testing Adaboost Model of our result data that combined the original data plut the generated data After cascading\")\n",
        " "
      ],
      "metadata": {
        "colab": {
          "base_uri": "https://localhost:8080/",
          "height": 532
        },
        "id": "nx1jT7DKV3za",
        "outputId": "766dc4b6-40fe-4723-b86c-388c7da16897"
      },
      "execution_count": null,
      "outputs": [
        {
          "output_type": "stream",
          "name": "stdout",
          "text": [
            "Testing accuracy of Adaboost of our result data that combined the original data plut the generated data After cascading: 94.82829954489036%\n",
            "Classification Report for Adaboost of our result data that combined the original data plut the generated data After cascading\n",
            "              precision    recall  f1-score   support\n",
            "\n",
            "           0       0.00      0.00      0.00         0\n",
            "           1       1.00      0.95      0.97      2417\n",
            "\n",
            "    accuracy                           0.95      2417\n",
            "   macro avg       0.50      0.47      0.49      2417\n",
            "weighted avg       1.00      0.95      0.97      2417\n",
            "\n",
            "[[   0    0]\n",
            " [ 125 2292]]\n"
          ]
        },
        {
          "output_type": "display_data",
          "data": {
            "text/plain": [
              "<Figure size 432x288 with 2 Axes>"
            ],
            "image/png": "[encoded data removed]"
          },
          "metadata": {
            "needs_background": "light"
          }
        }
      ]
    },
    {
      "cell_type": "code",
      "source": [
        "data = { 'RF':RandomForest_test_acc_conbination_Cascade*100,'adaBoost':Ada_test_acc_conbination_Cascade*100}\n",
        "models = list(data.keys())\n",
        "accuracies = list(data.values())  \n",
        "fig = plt.figure(figsize = (10, 5))\n",
        "# creating the bar plot\n",
        "plt.bar(models, accuracies, color ='maroon',width = 0.4)\n",
        "plt.xlabel(\"Models\")\n",
        "plt.ylabel(\"Accuracies\")\n",
        "plt.title(\"AdaBoost and RF Testign Accuracies for Comined Dataset After Cascading\")\n",
        "plt.show()\n"
      ],
      "metadata": {
        "colab": {
          "base_uri": "https://localhost:8080/",
          "height": 350
        },
        "id": "ln5YdFKNWRtx",
        "outputId": "a3168be6-a055-4554-be3b-76720b81ade9"
      },
      "execution_count": null,
      "outputs": [
        {
          "output_type": "display_data",
          "data": {
            "text/plain": [
              "<Figure size 720x360 with 1 Axes>"
            ],
            "image/png": "[encoded data removed]"
          },
          "metadata": {
            "needs_background": "light"
          }
        }
      ]
    },
    {
      "cell_type": "markdown",
      "source": [
        "#**References**\n",
        "##For GAN Model\n",
        "https://keras.io/examples/generative/conditional_gan/"
      ],
      "metadata": {
        "id": "uVUqIser_PEF"
      }
    }
  ],
  "metadata": {
    "colab": {
      "collapsed_sections": [],
      "name": "G18_Project_smartCities_code.ipynb",
      "provenance": []
    },
    "gpuClass": "standard",
    "kernelspec": {
      "display_name": "Python 3",
      "name": "python3"
    },
    "language_info": {
      "name": "python"
    },
    "accelerator": "GPU"
  },
  "nbformat": 4,
  "nbformat_minor": 0
}